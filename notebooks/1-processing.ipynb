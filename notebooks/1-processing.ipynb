{
 "cells": [
  {
   "cell_type": "code",
   "execution_count": 2,
   "metadata": {},
   "outputs": [],
   "source": [
    "import pandas as pd\n",
    "import os"
   ]
  },
  {
   "cell_type": "code",
   "execution_count": 4,
   "metadata": {},
   "outputs": [
    {
     "name": "stdout",
     "output_type": "stream",
     "text": [
      "['notes_inbox', 'enron_europe', 'personal', '2000_conference', 'vulcan_signs', 'deleted_items', 'tasks', 'sarah_joy_hunter', 'bristol_babcock', 'inbox', 'active_international', 'sap', 'hp', 'discussion_threads', 'kinko_s', 'fedex', 'nepco_europe', 'purchasing', 'etol', 'bridge', 'human_resources', 'nepco', 'computer_associates', 'sent_items', 'sent', 'oec', 'avaya', 'dell', 'ebs', 'compaq', '_sent_mail', 'weekly_report', 'cooper_cameron', 'pcc_values', 'corestaff', 'ge', 'colleen_koenig', 'sonoco', 'bmc', 'sparefinders_com', 'requisite', 'all_documents', 'ees', 'universal_studios', 'sony', 'continental_airlines']\n"
     ]
    }
   ],
   "source": [
    "data_path = '../data/raw/maildir/'\n",
    "employee_directories = next(os.walk(data_path))[1]\n",
    "\n",
    "for employee in employee_directories:\n",
    "    employee_path = data_path+employee+'/'\n",
    "    folders = next(os.walk(employee_path))[1]\n",
    "    if 'inbox' in folders:\n",
    "        pass\n",
    "    if 'sent' in folders:\n",
    "        pass"
   ]
  },
  {
   "cell_type": "code",
   "execution_count": null,
   "metadata": {},
   "outputs": [],
   "source": []
  }
 ],
 "metadata": {
  "kernelspec": {
   "display_name": "Python 3.11.5 ('enron-lAM3SukH')",
   "language": "python",
   "name": "python3"
  },
  "language_info": {
   "codemirror_mode": {
    "name": "ipython",
    "version": 3
   },
   "file_extension": ".py",
   "mimetype": "text/x-python",
   "name": "python",
   "nbconvert_exporter": "python",
   "pygments_lexer": "ipython3",
   "version": "3.11.5"
  },
  "orig_nbformat": 4,
  "vscode": {
   "interpreter": {
    "hash": "a860edd84fe1bd2cc228c0a6389f0a7d64efb187ac45f3c03c558e7593151759"
   }
  }
 },
 "nbformat": 4,
 "nbformat_minor": 2
}
