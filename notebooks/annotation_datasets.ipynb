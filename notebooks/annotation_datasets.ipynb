{
 "cells": [
  {
   "cell_type": "code",
   "execution_count": 21,
   "metadata": {},
   "outputs": [],
   "source": [
    "import pandas as pd\n",
    "import import_ipynb\n",
    "import os\n",
    "from email_processing import emails\n",
    "from tqdm import tqdm\n",
    "import datetime\n",
    "import numpy as np\n",
    "import warnings\n",
    "warnings.filterwarnings(\"ignore\")\n",
    "import seaborn as sns\n",
    "from matplotlib import pyplot as plt"
   ]
  },
  {
   "cell_type": "code",
   "execution_count": 176,
   "metadata": {},
   "outputs": [
    {
     "name": "stdout",
     "output_type": "stream",
     "text": [
      "148547\n"
     ]
    }
   ],
   "source": [
    "email_dfs = []\n",
    "for employee_dict in emails:\n",
    "    all_emails = pd.concat([employee_dict['Inbox'],employee_dict['Sent']])\n",
    "    email_dfs.append(all_emails)\n",
    "\n",
    "all_emails = pd.concat(email_dfs)\n",
    "print(len(all_emails))"
   ]
  },
  {
   "cell_type": "code",
   "execution_count": null,
   "metadata": {},
   "outputs": [],
   "source": [
    "# sample = all_emails.sample(n=1000)\n",
    "# sample.to_csv('../data/interim/training_data_1k.csv')"
   ]
  },
  {
   "cell_type": "code",
   "execution_count": null,
   "metadata": {},
   "outputs": [],
   "source": [
    "all_emails.columns.tolist()"
   ]
  },
  {
   "cell_type": "code",
   "execution_count": null,
   "metadata": {},
   "outputs": [],
   "source": [
    "def find_profanity(row):\n",
    "    cursewords=['fuck','bitch','asshole','shit','idiot','moron','damn','dammit','damnit','fuk','fck','fker','fkng','bullshit']\n",
    "    curse_found = 0\n",
    "    for curseword in cursewords:\n",
    "        if curseword in row['Body']:\n",
    "            curse_found = 1\n",
    "        else:\n",
    "            continue\n",
    "    return curse_found\n",
    "\n",
    "\n",
    "all_emails['potential_curseword'] = all_emails.progress_apply(lambda row: find_profanity(row), axis=1)\n",
    "    "
   ]
  },
  {
   "cell_type": "code",
   "execution_count": null,
   "metadata": {},
   "outputs": [],
   "source": [
    "curse_word_subset = all_emails[all_emails['potential_curseword'] == 1]\n",
    "#curse_word_subset.to_csv('../../enron/data/interim/training_data_cursewords.csv')"
   ]
  },
  {
   "cell_type": "code",
   "execution_count": null,
   "metadata": {},
   "outputs": [],
   "source": [
    "all_emails.iloc[1200].Date"
   ]
  },
  {
   "cell_type": "code",
   "execution_count": 238,
   "metadata": {},
   "outputs": [],
   "source": [
    "import re\n",
    "import calendar\n",
    "from datetime import datetime as dt\n",
    "\n",
    "def find_years(day, month, weekday, start_year=1997, end_year=2003):\n",
    "    weekday = weekday.capitalize()\n",
    "    years = []\n",
    "    weekday_index = None\n",
    "    for i, name in enumerate(calendar.day_name):\n",
    "        if name.startswith(weekday):\n",
    "            weekday_index = i\n",
    "            break\n",
    "    if weekday_index is None:\n",
    "        raise ValueError(f\"Invalid weekday abbreviation: {weekday}\")\n",
    "    \n",
    "    for year in range(start_year, end_year + 1):\n",
    "        date_string = f\"{day} {month} {year}\"\n",
    "        try:\n",
    "            date_object = dt.strptime(date_string, \"%d %b %Y\")\n",
    "        except ValueError:  # Handle invalid dates like 30 Feb\n",
    "            continue\n",
    "        if date_object.weekday() == weekday_index:\n",
    "            years.append(year)\n",
    "    return years\n",
    "\n",
    "def is_spaced_date(date_str):\n",
    "    # This pattern checks if there are spaced out letters as in the problem case.\n",
    "    spaced_pattern = re.compile(r'(?:\\b\\s*[A-Za-z]\\s*){3,}')\n",
    "    return bool(spaced_pattern.search(date_str))\n",
    "\n",
    "def clean_spaced_date(date_str):\n",
    "    # This function will clean up spaces between letters, digits, and around commas.\n",
    "    words_with_spaces = re.findall(r'(\\b\\s*[A-Za-z]+\\s*\\b|\\b\\s*[0-9]+\\s*\\b)', date_str)\n",
    "    \n",
    "    for word in words_with_spaces:\n",
    "        # Remove leading and trailing spaces and join the characters together.\n",
    "        cleaned_word = ''.join(word.split())\n",
    "        # Replace the original \"word\" in date_str with its \"cleaned\" version.\n",
    "        date_str = date_str.replace(word, cleaned_word)\n",
    "    \n",
    "    # Clean up spaces around commas and ensure single space between month and day\n",
    "    date_str = re.sub(r'\\s*,\\s*', ', ', date_str)\n",
    "    date_str = re.sub(r'(\\b[A-Za-z]+\\b)\\s+(\\b\\d+\\b)', r'\\1 \\2', date_str)\n",
    "\n",
    "    # Also, ensure there are no multiple spaces anywhere in the string.\n",
    "    date_str = re.sub(r'\\s{2,}', ' ', date_str)\n",
    "    \n",
    "    return date_str.strip()\n",
    "\n",
    "def custom_date_parser(row):\n",
    "    date_string = row['Date'].strip()\n",
    "    original_date_string = date_string\n",
    "\n",
    "    date_string = re.sub(r\"(\\d+)(st|nd|rd|th)\", r\"\\1\", date_string)\n",
    "\n",
    "    date_formats = [\"%a, %d %b %Y %H:%M:%S %z\", \"%A, %B %d, %Y\", \"%m/%d/%y %I:%M %p\", \"%m/%d/%Y %I:%M %p\", \n",
    "    \"%a, %d %b %Y %H:%M:%S %z\", \"%A, %B %d , %Y\", \"%a, %d %b %Y %H:%M:%S %Z\", \"%B %d, %Y\", \"%B %Y\", \n",
    "    \"%m-%d-%Y %H:%M:%S\", \"%d %b %Y %H:%M:%S %z\", \"%b. %d, %Y\", \"%A, %B %d, %Y %I:%M %p\", \"%d %b %y %H:%M:%S %z\", \n",
    "    \"%m/%d/%Y %I:%M %p \", \"%a, %d %b %Y %H:%M:%S %Z\", \"%a, %d %b %Y %H:%M:%S\", \"%d/%m/%y\", \"%d %B %Y\", \"%m/%d/%Y\", \n",
    "    \"%d %B %Y %H:%M\", \"%B %d %Y\", \"%A %d %B %Y\", \"%A, %b. %d %Y\", \"%m/%d/%Y %I:%M:%S %p\", \"%a, %d %b %Y\", \"%A , %b %d, %Y\", \n",
    "    \"%A , %b. %d, %Y\", \"%m/%d/%y\", \"%A %B %d, %Y %H:%M\", \"%m/%d/%y %I:%M%p %z\", \"%a %m/%d/%y\", \"%m/%d/%Y %I:%M%p\", \n",
    "    \"%a %d %B %Y %I:%M:%p\", \"%d/%m/%Y %H:%M\", \"%A %B %d %Y\", \"%A, %B%d, %Y\", '%a, %b %d, %Y,', \"%m/%d/%y %H:%M\", \n",
    "    \"%A, %b %d, %Y\", \"%a, %b %d, %Y, %I:%M %p\", \"%a, %d %b %Y %H:%M:%S\", '%A, %B %d, %Y, %I:%M:%S %p', \"%A, %B %d %Y\", \n",
    "    \"%A, %B %d, %Y %H:%M:%S %Z\", \"%a, %d %b %Y %H:%M %z\", \"%m-%d-%y\"]\n",
    "\n",
    "    weekdays = ['Monday','Tuesday','Wednesday','Thursday','Friday','Saturday','Sunday']\n",
    "\n",
    "    if \"(\" in date_string: ## Removing time zones in parentheses that pd.to_datetime() cannot parse\n",
    "        date_string = date_string.split(\" (\")[0]\n",
    "    \n",
    "    if re.search(r\"\\b000[0-9]\", date_string):  ## Dates mistakely formatted as 9/8/0002 for example\n",
    "        date_string = date_string.replace(\"000\", \"200\")\n",
    "\n",
    "    if \" and \" in date_string: ## For dates that are ranges with 'and'\n",
    "        day_of_week = [x for x in weekdays if x in date_string]\n",
    "        if len(day_of_week) >= 1:\n",
    "            weekday = day_of_week[0]\n",
    "            month = date_string.split(' and ')[0].split(', ')[1].split(' ')[0]\n",
    "            day = date_string.split(' and ')[0].split(', ')[1].split(' ')[1]\n",
    "            try:\n",
    "                possible_years = find_years(day, month, weekday)\n",
    "                if len(possible_years) == 1:\n",
    "                    year = possible_years[0]\n",
    "                    date_string = date_string + str(year)\n",
    "                else:\n",
    "                    return pd.NaT\n",
    "            except Exception as e:\n",
    "                #print(date_string)\n",
    "                #print(e)\n",
    "                return pd.NaT\n",
    "        else:\n",
    "            #print(f'Unable to parse: {date_string}')\n",
    "            return pd.NaT\n",
    "\n",
    "    if re.search(r'\\bat\\b', date_string): ## For dates that include the string 'at' to indicate time -- e.g. Jan. 7th at 1pm\n",
    "        date_string = date_string.split(' at ')[0]\n",
    "        weekday = date_string.split(', ')[0]\n",
    "        month = date_string.split(', ')[1].split(' ')[0]\n",
    "        day = date_string.split(', ')[1].split(' ')[1]\n",
    "        try:\n",
    "            possible_years = find_years(day, month, weekday)\n",
    "            if len(possible_years) == 1:\n",
    "                year = possible_years[0]\n",
    "                date_string = date_string + str(year)\n",
    "            else:\n",
    "                return pd.NaT\n",
    "        except Exception as e:\n",
    "            #print(date_string)\n",
    "            #print(e)\n",
    "            return pd.NaT\n",
    "\n",
    "    if ' - ' in date_string: ## For dates that are formatted as ranges with a ' - '\n",
    "        date_string = date_string.split(' - ')[0]\n",
    "        possible_years = ['1997','1998','1999','2000','2001','2002','2003']\n",
    "        year = [x for x in possible_years if x in date_string]\n",
    "        if len(year) == 0:\n",
    "            #print(f'Unable to parse date: {date_string}')\n",
    "            return pd.NaT\n",
    "        else:\n",
    "            pass\n",
    "\n",
    "    if ' PDT' in date_string: ## To replace invalid timezone\n",
    "        date_string = date_string.replace(\"PDT\", \"\").strip()\n",
    "\n",
    "    if ' EDT' in date_string: ## To replace invalid timezone\n",
    "        date_string = date_string.replace(\"EDT\", \"\").strip()\n",
    "\n",
    "    if ' PST' in date_string: ## To replace invalid timezone\n",
    "        date_string = date_string.replace(\"PST\", \"\").strip()\n",
    "\n",
    "    if ' CST' in date_string: ## To replace invalid timezone\n",
    "        date_string = date_string.replace(\"CST\", \"\").strip()\n",
    "\n",
    "    if ' Central Standard Time' in date_string: ## To replace invalid timezone\n",
    "        date_string = date_string.replace(\"Central Standard Time\", \"\").strip()\n",
    "\n",
    "    if re.match(r\"(?i)^(Sunday|Monday|Tuesday|Wednesday|Thursday|Friday|Saturday),\\s(January|February|March|April|May|June|July|August|September|October|November|December)\\s+([1-9]|[12][0-9]|3[01])$\", date_string):\n",
    "        ## For dates formatted like -- Thursday, March 9\n",
    "        weekday = date_string.split(', ')[0]\n",
    "        month = date_string.split(', ')[1].split(' ')[0].strip()\n",
    "        day = date_string.split(', ')[1].split(' ')[1].strip()\n",
    "        try:\n",
    "            possible_years = find_years(day, month, weekday)\n",
    "            if len(possible_years) == 1:\n",
    "                year = possible_years[0]\n",
    "                date_string = date_string + ' ' + str(year)\n",
    "            else:\n",
    "                return pd.NaT\n",
    "        except Exception as e:\n",
    "            #print(date_string)\n",
    "            #print(e)\n",
    "            return pd.NaT\n",
    "\n",
    "    elif re.match(r\"\\b(?:Monday|Tuesday|Wednesday|Thursday|Friday|Saturday|Sunday),\\s(?:[1-9]|[12][0-9]|3[01])\\s(?:January|February|March|April|May|June|July|August|September|October|November|December)\\b$\", date_string):\n",
    "        ## For dates formatted like -- Thursday, 9 March\n",
    "        weekday = date_string.split(', ')[0]\n",
    "        month = date_string.split(', ')[1].split(' ')[1]\n",
    "        day = date_string.split(', ')[1].split(' ')[0]\n",
    "        try:\n",
    "            possible_years = find_years(day, month, weekday)\n",
    "            if len(possible_years) == 1:\n",
    "                year = possible_years[0]\n",
    "                date_string = date_string + ' ' + str(year)\n",
    "            else:\n",
    "                return pd.NaT\n",
    "        except Exception as e:\n",
    "            #print(date_string)\n",
    "            #print(e)\n",
    "            return pd.NaT\n",
    "\n",
    "    elif re.match(r\"\\b([01]?[0-9]|2[0-3]):([0-5][0-9]):([0-5][0-9])\\s(AM|PM)\\sToday\\b\", date_string): ## For dates formatted like 03:30:47 PM Today\n",
    "        return pd.NaT\n",
    "\n",
    "    elif re.match(r\"\\b(?:January|February|March|April|May|June|July|August|September|October|November|December)\\s\\d{1,2}-\\d{1,2},\\s\\d{4}\\b\", date_string):\n",
    "        ## For dates formatted like September 10-13, 2001\n",
    "        date_string = date_string.split('-')[0] + ', ' + date_string.split(', ')[1]\n",
    "    \n",
    "    elif re.match(r\"\\b(?:Sunday|Monday|Tuesday|Wednesday|Thursday|Friday|Saturday),\\s(?:Jan\\.|Feb\\.|Mar\\.|Apr\\.|May|Jun\\.|Jul\\.|Aug\\.|Sep\\.|Oct\\.|Nov\\.|Dec\\.)\\s[0-3]?[0-9]$\", date_string):\n",
    "        ## For dates formatted like Tuesday, Feb. 27\n",
    "        weekday = date_string.split(', ')[0]\n",
    "        month = date_string.split(', ')[1].split(' ')[0]\n",
    "        day = date_string.split(', ')[1].split(' ')[1]\n",
    "        try:\n",
    "            possible_years = find_years(day, month, weekday)\n",
    "            if len(possible_years) == 1:\n",
    "                year = possible_years[0]\n",
    "                date_string = date_string + ' ' + str(year)\n",
    "            else:\n",
    "                return pd.NaT\n",
    "        except Exception as e:\n",
    "            #print(date_string)\n",
    "            #print(e)\n",
    "            return pd.NaT\n",
    "\n",
    "    elif re.match(r\"\\b(?:Sunday|Monday|Tuesday|Wednesday|Thursday|Friday|Saturday),\\s(?:January|February|March|April|May|June|July|August|September|October|November|December)\\s(?:[1-9]|[12][0-9]|3[01])(?!\\s*(?:\\d{4}|\\d{1,2}:\\d{2}))\\b\", date_string):\n",
    "        ## For dates formated like Thursday, February 15 Friday, February 16\n",
    "        date_string = ' '.join(date_string.split(' ')[:3])\n",
    "        weekday = date_string.split(', ')[0]\n",
    "        month = date_string.split(', ')[1].split(' ')[0]\n",
    "        day = date_string.split(', ')[1].split(' ')[1]\n",
    "        try:\n",
    "            possible_years = find_years(day, month, weekday)\n",
    "            if len(possible_years) == 1:\n",
    "                year = possible_years[0]\n",
    "                date_string = date_string + str(year)\n",
    "            else:\n",
    "                return pd.NaT\n",
    "        except Exception as e:\n",
    "            #print(date_string)\n",
    "            #print(e)\n",
    "            return pd.NaT\n",
    "\n",
    "    elif re.match(r\"\\bToday,\\s(Tuesday|Monday|Wednesday|Thursday|Friday|Saturday|Sunday),\\s(January|February|March|April|May|June|July|August|September|October|November|December)\\s([1-9]|[12][0-9]|3[01]),\\s(\\d{4})\\b\", date_string):\n",
    "        ## For dates formatted like Today, Tuesday, February 6, 2001\n",
    "        date_string = date_string.replace(\"Today, \", \"\")\n",
    "\n",
    "    elif \"Msg\" in date_string: ## Dates formatted with Msg at the end\n",
    "        date_string = date_string.replace('Msg', '').strip()\n",
    "\n",
    "    if \"Sept\" in date_string: ## Invalid abbreviation for September\n",
    "            date_string = date_string.replace(\"Sept\", \"Sep\")\n",
    "        \n",
    "    if \"Sepember\" in date_string: ## Typo in September\n",
    "        date_string = date_string.replace(\"Sepember\", \"September\")\n",
    "\n",
    "    if \"Noevember\" in date_string: ## Typo in November\n",
    "        date_string = date_string.replace(\"Noevember\", \"November\")\n",
    "\n",
    "    if \"Time\" in date_string: ## Unnecessarily included in some date strings\n",
    "        date_string = date_string.replace(\"Time\", \"\").strip()\n",
    "    \n",
    "    if \"-UT\" in date_string: ## Dates formatted like Thursday, May 3, 2001 -0100-UT\n",
    "        date_string = date_string.replace(\"-UT\", \"\").strip()\n",
    "\n",
    "    if \"=20\" in date_string: ## Dates formatted like Mon, 24 Sep 2001 15:04:53 -0500=20\n",
    "        date_string = date_string.replace(\"=20\",\"\").strip()\n",
    "\n",
    "    if date_string in [\"Daily\", \"Weekly on Monday's\", \"Thursday, 10 a.m.\", \"TODAY\", \"Every Monday\", \"Every Thursday\", \"_______________   Name\", \"1853\", \"14 century\", \"of, 15 ssa 2000 09:40:34 -0600\"]:\n",
    "        ## Unique cases of unidentifiable dates\n",
    "        return pd.NaT\n",
    "\n",
    "    if \"Written by Ted Nugent, the rock singer\" in date_string: ## Weird edge case\n",
    "        date_string = date_string.replace(\"Written by Ted Nugent, the rock singer\", \"\").strip()\n",
    "\n",
    "    if \", 1835edt\" in date_string: ## Another weird edge case\n",
    "        date_string = date_string.replace(\", 1835edt\", \"\").strip()\n",
    "\n",
    "    for format in date_formats:\n",
    "        try:\n",
    "            return pd.to_datetime(date_string, format=format).date()\n",
    "        except Exception as exc:\n",
    "            pass\n",
    "        else:\n",
    "            break\n",
    "    else:\n",
    "        #print(date_string)\n",
    "        #print(original_date_string)\n",
    "        return pd.NaT"
   ]
  },
  {
   "cell_type": "code",
   "execution_count": 239,
   "metadata": {},
   "outputs": [
    {
     "name": "stderr",
     "output_type": "stream",
     "text": [
      "100%|██████████| 148547/148547 [00:14<00:00, 10272.84it/s]\n"
     ]
    }
   ],
   "source": [
    "tqdm.pandas()\n",
    "all_emails['fixed_date'] = all_emails.progress_apply(lambda row: custom_date_parser(row), axis=1)"
   ]
  },
  {
   "cell_type": "code",
   "execution_count": 248,
   "metadata": {},
   "outputs": [
    {
     "data": {
      "image/png": "[encoded data removed]",
      "text/plain": [
       "<Figure size 640x480 with 1 Axes>"
      ]
     },
     "metadata": {},
     "output_type": "display_data"
    }
   ],
   "source": [
    "all_emails.reset_index(drop=True, inplace=True)\n",
    "\n",
    "plt.figure()\n",
    "\n",
    "sns.histplot(data=all_emails, x='fixed_date')\n",
    "plt.xlim(datetime.date(1998,12,1),datetime.date(2002,8,11))\n",
    "plt.ylim(0,1000)\n",
    "plt.xticks(rotation=45)\n",
    "\n",
    "plt.show()"
   ]
  },
  {
   "cell_type": "code",
   "execution_count": 249,
   "metadata": {},
   "outputs": [
    {
     "name": "stdout",
     "output_type": "stream",
     "text": [
      "501\n"
     ]
    }
   ],
   "source": [
    "emails_9_11 = all_emails[(all_emails['fixed_date'] >= datetime.date(2001, 9, 11)) & (all_emails['fixed_date'] <= datetime.date(2001, 9, 15))]\n",
    "print(len(emails_9_11))"
   ]
  },
  {
   "cell_type": "code",
   "execution_count": 250,
   "metadata": {},
   "outputs": [],
   "source": [
    "emails_9_11.to_clipboard()"
   ]
  },
  {
   "cell_type": "code",
   "execution_count": 251,
   "metadata": {},
   "outputs": [],
   "source": [
    "all_emails.to_csv('../data/processed/full_dataset.csv')"
   ]
  },
  {
   "cell_type": "code",
   "execution_count": null,
   "metadata": {},
   "outputs": [],
   "source": []
  }
 ],
 "metadata": {
  "kernelspec": {
   "display_name": "Python 3.11.5 ('enron-lAM3SukH')",
   "language": "python",
   "name": "python3"
  },
  "language_info": {
   "codemirror_mode": {
    "name": "ipython",
    "version": 3
   },
   "file_extension": ".py",
   "mimetype": "text/x-python",
   "name": "python",
   "nbconvert_exporter": "python",
   "pygments_lexer": "ipython3",
   "version": "3.11.5"
  },
  "orig_nbformat": 4,
  "vscode": {
   "interpreter": {
    "hash": "a860edd84fe1bd2cc228c0a6389f0a7d64efb187ac45f3c03c558e7593151759"
   }
  }
 },
 "nbformat": 4,
 "nbformat_minor": 2
}
